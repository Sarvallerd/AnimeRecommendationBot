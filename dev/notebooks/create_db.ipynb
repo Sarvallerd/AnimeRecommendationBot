{
 "cells": [
  {
   "cell_type": "code",
   "execution_count": 1,
   "id": "41fe96e0",
   "metadata": {},
   "outputs": [],
   "source": [
    "import psycopg2\n",
    "import pandas as pd\n",
    "import sys\n",
    "import os\n",
    "\n",
    "sys.path.insert(1, os.path.join(sys.path[0], '../../src/app/db/'))\n",
    "sys.path.insert(1, os.path.join(sys.path[0], '../../src/config/'))\n",
    "from db_connection import DB\n",
    "from config import db_config"
   ]
  },
  {
   "cell_type": "code",
   "execution_count": 2,
   "id": "78db1243",
   "metadata": {},
   "outputs": [],
   "source": [
    "db = DB(db_config)"
   ]
  },
  {
   "cell_type": "code",
   "execution_count": 3,
   "id": "06a402cd",
   "metadata": {},
   "outputs": [],
   "source": [
    "sql_schema_query = f\"\"\"\n",
    "DROP TABLE IF EXISTS users_requests; \n",
    "CREATE TABLE users_requests\n",
    "(\n",
    "    tg_Id INTEGER,\n",
    "    language_code VARCHAR(10),\n",
    "    first_name VARCHAR(15),\n",
    "    last_name VARCHAR(15),\n",
    "    username VARCHAR(30),\n",
    "    date TIMESTAMP WITH TIME ZONE,\n",
    "    request VARCHAR(25)\n",
    ");\n",
    "\"\"\"\n",
    "db.send_sql_query(sql_schema_query)"
   ]
  },
  {
   "cell_type": "code",
   "execution_count": 4,
   "id": "dbb81bbf",
   "metadata": {},
   "outputs": [],
   "source": [
    "sql_schema_query = f\"\"\"\n",
    "DROP TABLE IF EXISTS users_feedbacks; \n",
    "CREATE TABLE users_feedbacks\n",
    "(\n",
    "    tg_Id INTEGER,\n",
    "    language_code VARCHAR(10),\n",
    "    first_name VARCHAR(15),\n",
    "    last_name VARCHAR(15),\n",
    "    username VARCHAR(30),\n",
    "    date TIMESTAMP WITH TIME ZONE,\n",
    "    feedbacks VARCHAR(25)\n",
    ");\n",
    "\"\"\"\n",
    "db.send_sql_query(sql_schema_query)"
   ]
  },
  {
   "cell_type": "code",
   "execution_count": null,
   "id": "d11e71ea",
   "metadata": {},
   "outputs": [],
   "source": []
  }
 ],
 "metadata": {
  "kernelspec": {
   "display_name": "Python 3 (ipykernel)",
   "language": "python",
   "name": "python3"
  },
  "language_info": {
   "codemirror_mode": {
    "name": "ipython",
    "version": 3
   },
   "file_extension": ".py",
   "mimetype": "text/x-python",
   "name": "python",
   "nbconvert_exporter": "python",
   "pygments_lexer": "ipython3",
   "version": "3.10.10"
  }
 },
 "nbformat": 4,
 "nbformat_minor": 5
}
